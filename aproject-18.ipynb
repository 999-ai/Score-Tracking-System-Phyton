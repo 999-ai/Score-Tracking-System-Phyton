{
 "cells": [
  {
   "cell_type": "code",
   "execution_count": null,
   "id": "0b7cbdf6-422b-44de-9b62-3ec4a69dfc08",
   "metadata": {},
   "outputs": [],
   "source": [
    "score_list=[]\n",
    "\n",
    "def adding():\n",
    " while True:\n",
    "   score=int(input(\"Say a score to me\"))\n",
    "   if score==0:\n",
    "     break\n",
    "   score_list.append(score)\n",
    " print(score_list)\n",
    "\n",
    "\n",
    "def updating(score):\n",
    "   given_score=int(input(\"Choose a score\"))\n",
    "\n",
    "   if given_score in score_list:\n",
    "     index=score_list.index(given_score)\n",
    "     score_list[index]=1+score_list[index]\n",
    "     print(score_list)\n",
    "   \n",
    "       \n",
    "\n",
    "\n",
    "def displaying():\n",
    "  print(f\"\\nLook at the new scorelist\")\n",
    "  print(score_list)\n",
    "\n",
    "def menu():\n",
    " while True:\n",
    "    print(\"Choose first option to add score\")\n",
    "    print(\"Choose second option to update score\")\n",
    "    print(\"Choose third option to display\")\n",
    "     \n",
    "     \n",
    "    option=int(input(\"Choose a no\"))\n",
    "    if option==1:\n",
    "        adding()\n",
    "        \n",
    "    \n",
    "    elif option==2:\n",
    "       \n",
    "        updating(score_list)\n",
    "        \n",
    "    \n",
    "    elif option==3:\n",
    "       displaying() \n",
    "    else:\n",
    "       break\n",
    "\n",
    "\n",
    "menu()"
   ]
  }
 ],
 "metadata": {
  "kernelspec": {
   "display_name": "Python 3 (ipykernel)",
   "language": "python",
   "name": "python3"
  },
  "language_info": {
   "codemirror_mode": {
    "name": "ipython",
    "version": 3
   },
   "file_extension": ".py",
   "mimetype": "text/x-python",
   "name": "python",
   "nbconvert_exporter": "python",
   "pygments_lexer": "ipython3",
   "version": "3.12.4"
  }
 },
 "nbformat": 4,
 "nbformat_minor": 5
}
